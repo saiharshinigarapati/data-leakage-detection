{
  "cells": [
    {
      "cell_type": "code",
      "execution_count": 50,
      "metadata": {
        "id": "MhQ9m82O9IMb"
      },
      "outputs": [],
      "source": [
        "class Layer:\n",
        "  \n",
        "    def __init__(object):\n",
        "        object.ip = None\n",
        "        object.op = None\n",
        "\n",
        "    def forward(object, data_ip):\n",
        "        raise NotImplementedError\n",
        "\n",
        "    def backward(object, error_op, alpha):\n",
        "        raise NotImplementedError"
      ]
    },
    {
      "cell_type": "markdown",
      "source": [
        "##**Implementing Linear Layer**\n"
      ],
      "metadata": {
        "id": "Ot5DW99Mlkcz"
      }
    },
    {
      "cell_type": "code",
      "execution_count": 51,
      "metadata": {
        "id": "7oVuAsVD9IMd"
      },
      "outputs": [],
      "source": [
        "import numpy as np\n",
        "\n",
        "class LinearLayer(Layer):\n",
        "\n",
        "    def __init__(object, len_ip, len_op):\n",
        "        object.wghts = np.random.rand(len_ip, len_op)\n",
        "        object.bs = np.random.rand(1, len_op)\n",
        "\n",
        "    def forward(object, ip_data):\n",
        "        object.ip = ip_data\n",
        "        temp = np.dot(object.ip, object.wghts)\n",
        "        object.op=temp+object.bs\n",
        "        return object.op\n",
        "\n",
        "    def backward(object, op_error, alpha):\n",
        "        ip_error = np.dot(op_error, object.wghts.T)\n",
        "        wghts_error = np.dot(object.ip.T, op_error)\n",
        "        object.wghts =object.wghts- (alpha * wghts_error)\n",
        "        object.bs =object.bs- (alpha * op_error)\n",
        "        return ip_error"
      ]
    },
    {
      "cell_type": "markdown",
      "source": [
        "##**Tangent Activation Class**\n"
      ],
      "metadata": {
        "id": "V3AKTuATlyM2"
      }
    },
    {
      "cell_type": "code",
      "execution_count": 52,
      "metadata": {
        "id": "kwNDIGbb9IMe"
      },
      "outputs": [],
      "source": [
        "class TangentActivation(Layer):\n",
        "    \n",
        "    def forward(object, ip_data):\n",
        "        object.ip = ip_data\n",
        "        object.op = np.tanh(object.ip)\n",
        "        return object.op\n",
        "\n",
        "    def backward(object, op_error, alpha):\n",
        "        return (1-np.tanh(object.ip)**2 )* op_error"
      ]
    },
    {
      "cell_type": "markdown",
      "source": [
        "##**Sigmoid Activation Class**"
      ],
      "metadata": {
        "id": "YhBI4AsKl2ai"
      }
    },
    {
      "cell_type": "code",
      "execution_count": 53,
      "metadata": {
        "id": "CM-pFZbP9IMe"
      },
      "outputs": [],
      "source": [
        "class SigmoidActivation(Layer):\n",
        "\n",
        "    def forward(object, ip_data):\n",
        "        object.ip = ip_data\n",
        "        object.op =  (1/(1 + np.exp(-object.ip)))\n",
        "        return object.op\n",
        "\n",
        "    def backward(object, op_error, alpha):\n",
        "        return (np.exp(-object.ip)/(1+np.exp(-object.ip)**2))* op_error"
      ]
    },
    {
      "cell_type": "markdown",
      "source": [
        "##**SoftMax Activation Class**"
      ],
      "metadata": {
        "id": "5imDplBFl6zY"
      }
    },
    {
      "cell_type": "code",
      "execution_count": 54,
      "metadata": {
        "id": "xQI-SDMW9IMe"
      },
      "outputs": [],
      "source": [
        "class SoftMaxActivation(Layer):\n",
        "\n",
        "    def forward(object, ip_data):\n",
        "        object.ip = ip_data\n",
        "        object.op =  (np.exp(ip_data - np.max(ip_data)) / np.exp(ip_data - np.max(ip_data)).sum())\n",
        "        return object.op\n",
        "\n",
        "    def backward(object, op_error, alpha):\n",
        "        input_error = np.zeros(op_error.shape)\n",
        "        out = np.tile(object.op.T, len(object.ip))\n",
        "        return object.op * np.dot(op_error, np.identity(len(object.ip)) - out)"
      ]
    },
    {
      "cell_type": "markdown",
      "source": [
        "##**Cross Entropy Loss and Accuracy Calculator**"
      ],
      "metadata": {
        "id": "RaUnoF8Uwd0L"
      }
    },
    {
      "cell_type": "code",
      "execution_count": 55,
      "metadata": {
        "id": "0O1VxmGH9IMf"
      },
      "outputs": [],
      "source": [
        "import numpy as np\n",
        "\n",
        "def cross_entropy_loss(projected,original):\n",
        "    return -original * np.log(projected)\n",
        "\n",
        "def cross_entropy_loss_grad(projected,original):\n",
        "        return original - projected\n",
        "\n",
        "def find_accuracy(projected,original):\n",
        "    count=0\n",
        "    for i in range(len(projected)):\n",
        "      if projected[i]==original[i]:\n",
        "        count+=1    \n",
        "    return count/len(projected)*100\n"
      ]
    },
    {
      "cell_type": "markdown",
      "source": [
        "##**Implementing Sequential Class**"
      ],
      "metadata": {
        "id": "sxTbEA12wWMR"
      }
    },
    {
      "cell_type": "code",
      "execution_count": 59,
      "metadata": {
        "id": "5vk5AKEp9IMf"
      },
      "outputs": [],
      "source": [
        "class Sequential:\n",
        "    def __init__(object):\n",
        "        object.lyrs = []\n",
        "\n",
        "    def appendLayer(object, lyr):\n",
        "        object.lyrs.append(lyr)\n",
        "\n",
        "    #Predicting Using Forward Propagation\n",
        "    def findOutput(object, ip_data):\n",
        "        result = []\n",
        "        itr=0\n",
        "        while itr < len(ip_data):\n",
        "            op = ip_data[itr]\n",
        "            for lyr in object.lyrs:\n",
        "                op = lyr.forward(op)\n",
        "            result.append(op)\n",
        "            itr=itr+1\n",
        "        return result\n",
        "\n",
        "    #Training Neural Network\n",
        "    def trainnetwork(object, tr_data, tr_y, noofiterations, alpha):\n",
        "        itr=0\n",
        "        jtr=0\n",
        "        while itr < noofiterations:\n",
        "            itr=itr+1        \n",
        "            for jtr in range(len(tr_data)):\n",
        "                op = tr_data[jtr]\n",
        "                for lyr in object.lyrs:\n",
        "                    op = lyr.forward(op)\n",
        "                #finding error and propagating at each layer\n",
        "                error = cross_entropy_loss_grad(tr_y[jtr], op)\n",
        "                for lyr in reversed(object.lyrs):\n",
        "                    error = lyr.backward(error, alpha)\n",
        "\n",
        "            "
      ]
    },
    {
      "cell_type": "markdown",
      "source": [
        "##**Building Neural Network For XOR Function using Sigmoid Function**"
      ],
      "metadata": {
        "id": "nqEl1boawrGO"
      }
    },
    {
      "cell_type": "code",
      "execution_count": 67,
      "metadata": {
        "colab": {
          "base_uri": "https://localhost:8080/"
        },
        "id": "DX0ecdF_9IMg",
        "outputId": "2c545643-d58a-4798-ebce-6935d78600d5"
      },
      "outputs": [
        {
          "output_type": "stream",
          "name": "stdout",
          "text": [
            "[array([[0.50903382, 0.49528301]]), array([[0.50709438, 0.49556121]]), array([[0.49471008, 0.50492721]]), array([[0.49289442, 0.50502134]])]\n",
            "Accuracy of Network with Sigmoid Function Is  66.66666666666666 %\n"
          ]
        }
      ],
      "source": [
        "import numpy as np\n",
        "\n",
        "# Training Data \n",
        "data_train_x = np.array([[[0,0]], [[0,1]], [[1,0]], [[1,1]]])\n",
        "data_train_y = np.array([[[0]], [[1]], [[1]], [[0]]])\n",
        "\n",
        "#Using Sigmoid function\n",
        "\n",
        "#Building Network\n",
        "nnworkSigm = Sequential()\n",
        "nnworkSigm.appendLayer(LinearLayer(2, 3))\n",
        "nnworkSigm.appendLayer(SigmoidActivation())\n",
        "nnworkSigm.appendLayer(LinearLayer(3, 2))\n",
        "nnworkSigm.appendLayer(SigmoidActivation())\n",
        "\n",
        "#Fitting Network\n",
        "nnworkSigm.trainnetwork(data_train_x, data_train_y, 2000,0.01)\n",
        "\n",
        "#Predicting\n",
        "out = nnworkSigm.findOutput(data_train_x)\n",
        "print(out)\n",
        "\n",
        "#Finding Output Number\n",
        "outLables=[]\n",
        "for i in range(3):\n",
        "  outLables.append(np.argmax(out[i]))\n",
        "\n",
        "#Finding Accuracy\n",
        "print(\"Accuracy of Network with Sigmoid Function Is \",find_accuracy(np.array(outLables),y_train[:]),\"%\")\n"
      ]
    },
    {
      "cell_type": "markdown",
      "source": [
        "##**Building Neural Network For XOR Function using Tanh Function**"
      ],
      "metadata": {
        "id": "kYLzcTrGq4t3"
      }
    },
    {
      "cell_type": "code",
      "source": [
        "##Using Tan function\n",
        "\n",
        "#Building Network\n",
        "nnworkTan = Sequential()\n",
        "nnworkTan.appendLayer(LinearLayer(2, 2))\n",
        "nnworkTan.appendLayer(SigmoidActivation())\n",
        "nnworkTan.appendLayer(LinearLayer(2, 1))\n",
        "nnworkTan.appendLayer(SigmoidActivation())\n",
        "\n",
        "#Fitting Network\n",
        "nnworkTan.trainnetwork(x_train, y_train, 2000,0.01)\n",
        "\n",
        "#Predicting\n",
        "out = nnworkTan.findOutput(x_train)\n",
        "\n",
        "#Finding Output Number\n",
        "outLables=[]\n",
        "for i in range(3):\n",
        "  outLables.append(np.argmax(out[i]))\n",
        "\n",
        "print(outLables)\n",
        "#Finding Accuracy\n",
        "print(\"Accuracy of Network with Tanh Function Is \",find_accuracy(np.array(outLables),y_train[:]),\"%\")"
      ],
      "metadata": {
        "colab": {
          "base_uri": "https://localhost:8080/"
        },
        "id": "pGQaPcWPq1kg",
        "outputId": "186e4181-f6b8-4cba-8e36-483a42d77c5b"
      },
      "execution_count": 66,
      "outputs": [
        {
          "output_type": "stream",
          "name": "stdout",
          "text": [
            "[0, 0, 0]\n",
            "Accuracy of Network with Tanh Function Is  33.33333333333333 %\n"
          ]
        }
      ]
    },
    {
      "cell_type": "markdown",
      "source": [
        "##**Building Neural Network For MNIST Dataset**\n",
        "##Importing Dataset\n"
      ],
      "metadata": {
        "id": "8L5oMHQCxI0X"
      }
    },
    {
      "cell_type": "code",
      "execution_count": 69,
      "metadata": {
        "id": "S1iLszBE9IMi"
      },
      "outputs": [],
      "source": [
        "import numpy as np\n",
        "from keras.utils import to_categorical\n",
        "from keras.datasets import mnist\n",
        "\n",
        "#Nodes in the layers\n",
        "inp_layer=784;\n",
        "hidden1=128;\n",
        "hidden2=64;\n",
        "oup_layer=10;\n",
        "\n",
        "#Loading Dataset\n",
        "(data_train_x, data_train_y), (data_test_x, data_test_y) = mnist.load_data()\n",
        "\n",
        "#Normalizing and reshaping the training data\n",
        "data_train_x = data_train_x.reshape(data_train_x.shape[0], 1, inp_layer)\n",
        "data_train_x = (data_train_x/255).astype('float32')\n",
        "\n",
        "#Normalizing and reshaping the test data\n",
        "data_test_x = data_test_x.reshape(data_test_x.shape[0], 1, inp_layer)\n",
        "data_test_x = (data_test_x/255).astype('float32')\n",
        "\n",
        "\n",
        "#One Hard Encoding Target data\n",
        "arr = []\n",
        "for i in range(len(data_train_y)):\n",
        "  arr.append(to_categorical(data_train_y[i], num_classes=10))\n",
        "data_train_y = np.array(arr)\n"
      ]
    },
    {
      "cell_type": "markdown",
      "source": [
        "##**Using Softmax as Activation Function**"
      ],
      "metadata": {
        "id": "ejdF23EK7mrF"
      }
    },
    {
      "cell_type": "code",
      "source": [
        "#Adding Layers\n",
        "mnistNetwork = Sequential()\n",
        "mnistNetwork.appendLayer(LinearLayer(inp_layer,hidden1))\n",
        "mnistNetwork.appendLayer(SoftMaxActivation())\n",
        "mnistNetwork.appendLayer(LinearLayer(hidden1,hidden2))\n",
        "mnistNetwork.appendLayer(SoftMaxActivation())\n",
        "mnistNetwork.appendLayer(LinearLayer(hidden2,oup_layer))\n",
        "mnistNetwork.appendLayer(SoftMaxActivation())\n",
        "\n",
        "n=10000\n",
        "#Fitting Network\n",
        "mnistNetwork.trainnetwork(data_train_x[:n], data_train_y[:n], 5, 0.1)\n",
        "\n",
        "#Finding Output Number\n",
        "outLables=[]\n",
        "out = mnistNetwork.findOutput(data_test_x[:n])\n",
        "for i in range(n):\n",
        "  outLables.append(np.argmax(out[i]))\n",
        "\n",
        "#Finding Accuracy\n",
        "print(\"Accuracy of Network  Is \",find_accuracy(np.array(outLables),data_test_y[:n]),\"%\")"
      ],
      "metadata": {
        "colab": {
          "base_uri": "https://localhost:8080/"
        },
        "id": "P5mwJmPO7WSP",
        "outputId": "934c24cc-7991-41dd-a0c8-d5cca3bb2c12"
      },
      "execution_count": 72,
      "outputs": [
        {
          "output_type": "stream",
          "name": "stdout",
          "text": [
            "Accuracy of Network  Is  9.82 %\n"
          ]
        }
      ]
    },
    {
      "cell_type": "markdown",
      "source": [
        "##**Using Sigmoid as Activation Function**"
      ],
      "metadata": {
        "id": "0pS0dPlZ9cRs"
      }
    },
    {
      "cell_type": "code",
      "source": [
        "#Adding Layers\n",
        "mnistNetwork = Sequential()\n",
        "mnistNetwork.appendLayer(LinearLayer(inp_layer,hidden1))\n",
        "mnistNetwork.appendLayer(SigmoidActivation())\n",
        "mnistNetwork.appendLayer(LinearLayer(hidden1,hidden2))\n",
        "mnistNetwork.appendLayer(SigmoidActivation())\n",
        "mnistNetwork.appendLayer(LinearLayer(hidden2,oup_layer))\n",
        "mnistNetwork.appendLayer(SigmoidActivation())\n",
        "\n",
        "n=10000\n",
        "#Fitting Network\n",
        "mnistNetwork.trainnetwork(data_train_x[:n], data_train_y[:n], 5, 0.1)\n",
        "\n",
        "#Finding Output Number\n",
        "outLables=[]\n",
        "out = mnistNetwork.findOutput(data_test_x[:n])\n",
        "for i in range(n):\n",
        "  outLables.append(np.argmax(out[i]))\n",
        "\n",
        "#Finding Accuracy\n",
        "print(\"Accuracy of Network  Is \",find_accuracy(np.array(outLables),data_test_y[:n]),\"%\")"
      ],
      "metadata": {
        "colab": {
          "base_uri": "https://localhost:8080/"
        },
        "id": "LmSB91dZ7veJ",
        "outputId": "ba987526-dd69-4908-fe90-a441c2a2ef3e"
      },
      "execution_count": 73,
      "outputs": [
        {
          "output_type": "stream",
          "name": "stdout",
          "text": [
            "Accuracy of Network  Is  10.09 %\n"
          ]
        }
      ]
    },
    {
      "cell_type": "markdown",
      "source": [
        "##**Using Tanh as Activation Function**"
      ],
      "metadata": {
        "id": "8ZxgkKJS-Uv-"
      }
    },
    {
      "cell_type": "code",
      "source": [
        "#Adding Layers\n",
        "mnistNetwork = Sequential()\n",
        "mnistNetwork.appendLayer(LinearLayer(inp_layer,hidden1))\n",
        "mnistNetwork.appendLayer(TangentActivation())\n",
        "mnistNetwork.appendLayer(LinearLayer(hidden1,hidden2))\n",
        "mnistNetwork.appendLayer(TangentActivation())\n",
        "mnistNetwork.appendLayer(LinearLayer(hidden2,oup_layer))\n",
        "mnistNetwork.appendLayer(TangentActivation())\n",
        "\n",
        "n=10000\n",
        "#Fitting Network\n",
        "mnistNetwork.trainnetwork(data_train_x[:n], data_train_y[:n], 5, 0.1)\n",
        "\n",
        "#Finding Output Number\n",
        "outLables=[]\n",
        "out = mnistNetwork.findOutput(data_test_x[:n])\n",
        "for i in range(n):\n",
        "  outLables.append(np.argmax(out[i]))\n",
        "\n",
        "#Finding Accuracy\n",
        "print(\"Accuracy of Network  Is \",find_accuracy(np.array(outLables),data_test_y[:n]),\"%\")"
      ],
      "metadata": {
        "colab": {
          "base_uri": "https://localhost:8080/"
        },
        "id": "G_ovmxsm-TUT",
        "outputId": "a1c3e920-d9cf-4d9f-fbf8-f467cf6ec120"
      },
      "execution_count": 74,
      "outputs": [
        {
          "output_type": "stream",
          "name": "stdout",
          "text": [
            "Accuracy of Network  Is  9.8 %\n"
          ]
        }
      ]
    }
  ],
  "metadata": {
    "kernelspec": {
      "display_name": "Python 3.9.13 64-bit (microsoft store)",
      "language": "python",
      "name": "python3"
    },
    "language_info": {
      "codemirror_mode": {
        "name": "ipython",
        "version": 3
      },
      "file_extension": ".py",
      "mimetype": "text/x-python",
      "name": "python",
      "nbconvert_exporter": "python",
      "pygments_lexer": "ipython3",
      "version": "3.9.13"
    },
    "orig_nbformat": 4,
    "vscode": {
      "interpreter": {
        "hash": "accdffe619291f08a2ff010477572ccf3e2886b15af7e05a7a2b450f2b84ea24"
      }
    },
    "colab": {
      "provenance": [],
      "collapsed_sections": []
    }
  },
  "nbformat": 4,
  "nbformat_minor": 0
}